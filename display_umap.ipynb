{
 "cells": [
  {
   "cell_type": "code",
   "execution_count": 1,
   "id": "d9b13ed3",
   "metadata": {},
   "outputs": [],
   "source": [
    "from jupyter_dash import JupyterDash\n",
    "\n",
    "from umap_vis import get_dash_app"
   ]
  },
  {
   "cell_type": "markdown",
   "id": "89524f83",
   "metadata": {},
   "source": [
    "### Load the UMAP visualization app\n",
    "To only display specific datasets, use the `filter_sets` parameter"
   ]
  },
  {
   "cell_type": "code",
   "execution_count": 2,
   "id": "5b61345a",
   "metadata": {},
   "outputs": [],
   "source": [
    "app = get_dash_app(\n",
    "    filter_sets=['biomolecules', 'SMRT']    # only biomolecules and SMRT\n",
    "    #filter_sets=None                       # everything\n",
    ")"
   ]
  },
  {
   "cell_type": "markdown",
   "id": "f1969a5a",
   "metadata": {},
   "source": [
    "### Visualization\n",
    "- Zoom onto a specific region by using left click and dragging\n",
    "- Click on the legend on the right-hand side to toggle visualization of specific datasets\n",
    "- Export via the camera icon in the toolbar (top right)"
   ]
  },
  {
   "cell_type": "code",
   "execution_count": null,
   "id": "e8696d91",
   "metadata": {},
   "outputs": [],
   "source": [
    "app.run_server(\n",
    "    mode=\"inline\"       # display visualization in this notebook\n",
    "    # mode=\"external\"   # only show link to open visualization externally\n",
    ")"
   ]
  },
  {
   "cell_type": "markdown",
   "id": "5b32c8d2",
   "metadata": {},
   "source": [
    "**Note:**\n",
    "When getting `Address already in use`, restart the Jupyter kernel"
   ]
  }
 ],
 "metadata": {
  "kernelspec": {
   "display_name": "Python 3 (ipykernel)",
   "language": "python",
   "name": "python3"
  },
  "language_info": {
   "codemirror_mode": {
    "name": "ipython",
    "version": 3
   },
   "file_extension": ".py",
   "mimetype": "text/x-python",
   "name": "python",
   "nbconvert_exporter": "python",
   "pygments_lexer": "ipython3",
   "version": "3.10.9"
  }
 },
 "nbformat": 4,
 "nbformat_minor": 5
}
